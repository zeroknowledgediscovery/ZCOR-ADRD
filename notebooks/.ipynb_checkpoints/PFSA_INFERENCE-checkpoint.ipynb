{
 "cells": [
  {
   "cell_type": "code",
   "execution_count": 1,
   "metadata": {},
   "outputs": [],
   "source": [
    "import os\n",
    "import sys\n",
    "import warnings\n",
    "warnings.filterwarnings(\"ignore\")\n",
    "\n",
    "import matplotlib.pyplot as plt\n",
    "%matplotlib inline\n",
    "\n",
    "import pandas as pd\n",
    "import numpy as np\n",
    "\n",
    "sys.path.append('..')\n",
    "\n",
    "from zcor_adrd import dataprocessing\n",
    "from zcor_adrd import pfsageneration\n",
    "from zcor_adrd import pfsascoreestimation\n",
    "from zcor_adrd import zcorstats"
   ]
  },
  {
   "cell_type": "code",
   "execution_count": 2,
   "metadata": {},
   "outputs": [
    {
     "name": "stdout",
     "output_type": "stream",
     "text": [
      "/mnt/c/Users/onisc/Documents/ZBL/ZCOR-ADRD/notebooks\n"
     ]
    }
   ],
   "source": [
    "!pwd"
   ]
  },
  {
   "cell_type": "code",
   "execution_count": 3,
   "metadata": {},
   "outputs": [
    {
     "name": "stdout",
     "output_type": "stream",
     "text": [
      "LICENSE  README.md  bin  data  models  notebooks  zcor_adrd\n"
     ]
    }
   ],
   "source": [
    "!ls .."
   ]
  },
  {
   "cell_type": "code",
   "execution_count": 4,
   "metadata": {},
   "outputs": [],
   "source": [
    "dataprocessing.ternary_encoding('../data/RAW_SAMPLE.csv')"
   ]
  },
  {
   "cell_type": "code",
   "execution_count": 5,
   "metadata": {},
   "outputs": [
    {
     "name": "stdout",
     "output_type": "stream",
     "text": [
      "0    9116\n",
      "1     355\n",
      "Name: target, dtype: int64\n",
      "0    9070\n",
      "1     401\n",
      "Name: target, dtype: int64\n"
     ]
    }
   ],
   "source": [
    "PFSA_SET = pd.read_csv(\"../data/PFSA_SET.csv\")\n",
    "LLK_SET = pd.read_csv(\"../data/LLK_SET.csv\")\n",
    "\n",
    "print(PFSA_SET.target.value_counts())\n",
    "print(LLK_SET.target.value_counts())"
   ]
  },
  {
   "cell_type": "code",
   "execution_count": 6,
   "metadata": {},
   "outputs": [
    {
     "data": {
      "text/html": [
       "<div>\n",
       "<style scoped>\n",
       "    .dataframe tbody tr th:only-of-type {\n",
       "        vertical-align: middle;\n",
       "    }\n",
       "\n",
       "    .dataframe tbody tr th {\n",
       "        vertical-align: top;\n",
       "    }\n",
       "\n",
       "    .dataframe thead th {\n",
       "        text-align: right;\n",
       "    }\n",
       "</style>\n",
       "<table border=\"1\" class=\"dataframe\">\n",
       "  <thead>\n",
       "    <tr style=\"text-align: right;\">\n",
       "      <th></th>\n",
       "      <th>patient_id</th>\n",
       "      <th>gender</th>\n",
       "      <th>age_at_screening</th>\n",
       "      <th>sequence</th>\n",
       "      <th>sequence_weeks</th>\n",
       "      <th>sequence_codes</th>\n",
       "      <th>abs_sequence_weeks</th>\n",
       "      <th>prediction_point</th>\n",
       "      <th>first_week</th>\n",
       "      <th>last_week</th>\n",
       "      <th>...</th>\n",
       "      <th>DX_Rheumatism_codes</th>\n",
       "      <th>DX_Sleep_Disorders_codes</th>\n",
       "      <th>DX_Symptoms_Abs_Pelvis_codes</th>\n",
       "      <th>DX_Symptoms_Digestive_codes</th>\n",
       "      <th>DX_Symptoms_General_codes</th>\n",
       "      <th>DX_Symptoms_Respiratory_codes</th>\n",
       "      <th>DX_Symptoms_Skin_codes</th>\n",
       "      <th>DX_Symptoms_Urinary_codes</th>\n",
       "      <th>DX_Thyroid_codes</th>\n",
       "      <th>target</th>\n",
       "    </tr>\n",
       "  </thead>\n",
       "  <tbody>\n",
       "    <tr>\n",
       "      <th>6793</th>\n",
       "      <td>P1877</td>\n",
       "      <td>M</td>\n",
       "      <td>64.673077</td>\n",
       "      <td>0 0 0 2 0 0 2 2 2 0 0 2 0 2 2 0 0 0 0 0 0 0 0 ...</td>\n",
       "      <td>4 4 4 7 7 7 8 8 8 9 9 12 12 12 14 14 15 15 15 ...</td>\n",
       "      <td>727.03 354.0 V57.21 727.03 354.0 V57.21 727.03...</td>\n",
       "      <td>91 91 91 94 94 94 95 95 95 96 96 99 99 99 101 ...</td>\n",
       "      <td>191</td>\n",
       "      <td>91</td>\n",
       "      <td>185</td>\n",
       "      <td>...</td>\n",
       "      <td>727.03 727.03 727.03 727.03 727.03 727.05</td>\n",
       "      <td>None</td>\n",
       "      <td>789.06 789.00</td>\n",
       "      <td>R11.0</td>\n",
       "      <td>None</td>\n",
       "      <td>None</td>\n",
       "      <td>None</td>\n",
       "      <td>None</td>\n",
       "      <td>None</td>\n",
       "      <td>0</td>\n",
       "    </tr>\n",
       "  </tbody>\n",
       "</table>\n",
       "<p>1 rows × 129 columns</p>\n",
       "</div>"
      ],
      "text/plain": [
       "     patient_id gender  age_at_screening  \\\n",
       "6793      P1877      M         64.673077   \n",
       "\n",
       "                                               sequence  \\\n",
       "6793  0 0 0 2 0 0 2 2 2 0 0 2 0 2 2 0 0 0 0 0 0 0 0 ...   \n",
       "\n",
       "                                         sequence_weeks  \\\n",
       "6793  4 4 4 7 7 7 8 8 8 9 9 12 12 12 14 14 15 15 15 ...   \n",
       "\n",
       "                                         sequence_codes  \\\n",
       "6793  727.03 354.0 V57.21 727.03 354.0 V57.21 727.03...   \n",
       "\n",
       "                                     abs_sequence_weeks  prediction_point  \\\n",
       "6793  91 91 91 94 94 94 95 95 95 96 96 99 99 99 101 ...               191   \n",
       "\n",
       "      first_week  last_week  ...                        DX_Rheumatism_codes  \\\n",
       "6793          91        185  ...  727.03 727.03 727.03 727.03 727.03 727.05   \n",
       "\n",
       "     DX_Sleep_Disorders_codes DX_Symptoms_Abs_Pelvis_codes  \\\n",
       "6793                     None                789.06 789.00   \n",
       "\n",
       "     DX_Symptoms_Digestive_codes DX_Symptoms_General_codes  \\\n",
       "6793                       R11.0                      None   \n",
       "\n",
       "     DX_Symptoms_Respiratory_codes DX_Symptoms_Skin_codes  \\\n",
       "6793                          None                   None   \n",
       "\n",
       "     DX_Symptoms_Urinary_codes DX_Thyroid_codes target  \n",
       "6793                      None             None      0  \n",
       "\n",
       "[1 rows x 129 columns]"
      ]
     },
     "execution_count": 6,
     "metadata": {},
     "output_type": "execute_result"
    }
   ],
   "source": [
    "PFSA_SET.sample()"
   ]
  },
  {
   "cell_type": "code",
   "execution_count": 7,
   "metadata": {},
   "outputs": [
    {
     "data": {
      "text/html": [
       "<div>\n",
       "<style scoped>\n",
       "    .dataframe tbody tr th:only-of-type {\n",
       "        vertical-align: middle;\n",
       "    }\n",
       "\n",
       "    .dataframe tbody tr th {\n",
       "        vertical-align: top;\n",
       "    }\n",
       "\n",
       "    .dataframe thead th {\n",
       "        text-align: right;\n",
       "    }\n",
       "</style>\n",
       "<table border=\"1\" class=\"dataframe\">\n",
       "  <thead>\n",
       "    <tr style=\"text-align: right;\">\n",
       "      <th></th>\n",
       "      <th>patient_id</th>\n",
       "      <th>gender</th>\n",
       "      <th>age_at_screening</th>\n",
       "      <th>sequence</th>\n",
       "      <th>sequence_weeks</th>\n",
       "      <th>sequence_codes</th>\n",
       "      <th>abs_sequence_weeks</th>\n",
       "      <th>prediction_point</th>\n",
       "      <th>first_week</th>\n",
       "      <th>last_week</th>\n",
       "      <th>...</th>\n",
       "      <th>DX_Rheumatism_codes</th>\n",
       "      <th>DX_Sleep_Disorders_codes</th>\n",
       "      <th>DX_Symptoms_Abs_Pelvis_codes</th>\n",
       "      <th>DX_Symptoms_Digestive_codes</th>\n",
       "      <th>DX_Symptoms_General_codes</th>\n",
       "      <th>DX_Symptoms_Respiratory_codes</th>\n",
       "      <th>DX_Symptoms_Skin_codes</th>\n",
       "      <th>DX_Symptoms_Urinary_codes</th>\n",
       "      <th>DX_Thyroid_codes</th>\n",
       "      <th>target</th>\n",
       "    </tr>\n",
       "  </thead>\n",
       "  <tbody>\n",
       "    <tr>\n",
       "      <th>3803</th>\n",
       "      <td>P13368</td>\n",
       "      <td>M</td>\n",
       "      <td>66.980769</td>\n",
       "      <td>0 0 0 0 0 0 2 0 0 0 0 0 0 0 0 0 0 0 2 0 0 0 0 ...</td>\n",
       "      <td>7 19 19 26 53 53 55 55 56 56 59 59 59 61 62 63...</td>\n",
       "      <td>250.00 250.00 365.01 781.0 250.00 V03.82 698.3...</td>\n",
       "      <td>370 382 382 389 416 416 418 418 419 419 422 42...</td>\n",
       "      <td>467</td>\n",
       "      <td>370</td>\n",
       "      <td>447</td>\n",
       "      <td>...</td>\n",
       "      <td>None</td>\n",
       "      <td>None</td>\n",
       "      <td>789.04 789.04</td>\n",
       "      <td>None</td>\n",
       "      <td>None</td>\n",
       "      <td>None</td>\n",
       "      <td>None</td>\n",
       "      <td>None</td>\n",
       "      <td>None</td>\n",
       "      <td>0</td>\n",
       "    </tr>\n",
       "  </tbody>\n",
       "</table>\n",
       "<p>1 rows × 129 columns</p>\n",
       "</div>"
      ],
      "text/plain": [
       "     patient_id gender  age_at_screening  \\\n",
       "3803     P13368      M         66.980769   \n",
       "\n",
       "                                               sequence  \\\n",
       "3803  0 0 0 0 0 0 2 0 0 0 0 0 0 0 0 0 0 0 2 0 0 0 0 ...   \n",
       "\n",
       "                                         sequence_weeks  \\\n",
       "3803  7 19 19 26 53 53 55 55 56 56 59 59 59 61 62 63...   \n",
       "\n",
       "                                         sequence_codes  \\\n",
       "3803  250.00 250.00 365.01 781.0 250.00 V03.82 698.3...   \n",
       "\n",
       "                                     abs_sequence_weeks  prediction_point  \\\n",
       "3803  370 382 382 389 416 416 418 418 419 419 422 42...               467   \n",
       "\n",
       "      first_week  last_week  ...  DX_Rheumatism_codes  \\\n",
       "3803         370        447  ...                 None   \n",
       "\n",
       "     DX_Sleep_Disorders_codes DX_Symptoms_Abs_Pelvis_codes  \\\n",
       "3803                     None                789.04 789.04   \n",
       "\n",
       "     DX_Symptoms_Digestive_codes DX_Symptoms_General_codes  \\\n",
       "3803                        None                      None   \n",
       "\n",
       "     DX_Symptoms_Respiratory_codes DX_Symptoms_Skin_codes  \\\n",
       "3803                          None                   None   \n",
       "\n",
       "     DX_Symptoms_Urinary_codes DX_Thyroid_codes target  \n",
       "3803                      None             None      0  \n",
       "\n",
       "[1 rows x 129 columns]"
      ]
     },
     "execution_count": 7,
     "metadata": {},
     "output_type": "execute_result"
    }
   ],
   "source": [
    "LLK_SET.sample()"
   ]
  },
  {
   "cell_type": "code",
   "execution_count": 8,
   "metadata": {},
   "outputs": [],
   "source": [
    "pfsageneration.generate_pfsa(PFSA_SET)"
   ]
  },
  {
   "cell_type": "code",
   "execution_count": 9,
   "metadata": {},
   "outputs": [],
   "source": [
    "pfsascoreestimation.generate_pfsa_features(\n",
    "    LLK_SET,\n",
    "    save_path = '../data/pfsa_features.csv')"
   ]
  },
  {
   "cell_type": "code",
   "execution_count": 10,
   "metadata": {},
   "outputs": [],
   "source": [
    "zcorstats.compute_performance(\n",
    "                '../data/pfsa_features.csv',\n",
    "                'MEAN_DX_sld',\n",
    "            )"
   ]
  },
  {
   "cell_type": "code",
   "execution_count": 11,
   "metadata": {},
   "outputs": [
    {
     "data": {
      "text/html": [
       "<div>\n",
       "<style scoped>\n",
       "    .dataframe tbody tr th:only-of-type {\n",
       "        vertical-align: middle;\n",
       "    }\n",
       "\n",
       "    .dataframe tbody tr th {\n",
       "        vertical-align: top;\n",
       "    }\n",
       "\n",
       "    .dataframe thead th {\n",
       "        text-align: right;\n",
       "    }\n",
       "</style>\n",
       "<table border=\"1\" class=\"dataframe\">\n",
       "  <thead>\n",
       "    <tr style=\"text-align: right;\">\n",
       "      <th></th>\n",
       "      <th>fpr</th>\n",
       "      <th>auc</th>\n",
       "      <th>confidence</th>\n",
       "      <th>cb</th>\n",
       "      <th>p</th>\n",
       "      <th>tpr</th>\n",
       "      <th>ppv</th>\n",
       "      <th>npv</th>\n",
       "      <th>pos_LR</th>\n",
       "      <th>neg_LR</th>\n",
       "      <th>f1</th>\n",
       "      <th>accuracy</th>\n",
       "    </tr>\n",
       "  </thead>\n",
       "  <tbody>\n",
       "    <tr>\n",
       "      <th>0</th>\n",
       "      <td>0.01</td>\n",
       "      <td>0.656396</td>\n",
       "      <td>0.038009</td>\n",
       "      <td>0.99</td>\n",
       "      <td>2.514645e-26</td>\n",
       "      <td>0.002494</td>\n",
       "      <td>0.010870</td>\n",
       "      <td>0.957283</td>\n",
       "      <td>0.249377</td>\n",
       "      <td>1.007582</td>\n",
       "      <td>0.004057</td>\n",
       "      <td>0.948075</td>\n",
       "    </tr>\n",
       "    <tr>\n",
       "      <th>1</th>\n",
       "      <td>0.05</td>\n",
       "      <td>0.656396</td>\n",
       "      <td>0.038009</td>\n",
       "      <td>0.99</td>\n",
       "      <td>2.514645e-26</td>\n",
       "      <td>0.012469</td>\n",
       "      <td>0.010460</td>\n",
       "      <td>0.955892</td>\n",
       "      <td>0.249377</td>\n",
       "      <td>1.039506</td>\n",
       "      <td>0.011377</td>\n",
       "      <td>0.908101</td>\n",
       "    </tr>\n",
       "    <tr>\n",
       "      <th>2</th>\n",
       "      <td>0.10</td>\n",
       "      <td>0.656396</td>\n",
       "      <td>0.038009</td>\n",
       "      <td>0.99</td>\n",
       "      <td>2.514645e-26</td>\n",
       "      <td>0.029925</td>\n",
       "      <td>0.012862</td>\n",
       "      <td>0.954359</td>\n",
       "      <td>0.299252</td>\n",
       "      <td>1.077861</td>\n",
       "      <td>0.017991</td>\n",
       "      <td>0.861464</td>\n",
       "    </tr>\n",
       "    <tr>\n",
       "      <th>3</th>\n",
       "      <td>0.15</td>\n",
       "      <td>0.656396</td>\n",
       "      <td>0.038009</td>\n",
       "      <td>0.99</td>\n",
       "      <td>2.514645e-26</td>\n",
       "      <td>0.037406</td>\n",
       "      <td>0.010799</td>\n",
       "      <td>0.952151</td>\n",
       "      <td>0.249377</td>\n",
       "      <td>1.132463</td>\n",
       "      <td>0.016760</td>\n",
       "      <td>0.813875</td>\n",
       "    </tr>\n",
       "    <tr>\n",
       "      <th>4</th>\n",
       "      <td>0.20</td>\n",
       "      <td>0.656396</td>\n",
       "      <td>0.038009</td>\n",
       "      <td>0.99</td>\n",
       "      <td>2.514645e-26</td>\n",
       "      <td>0.074813</td>\n",
       "      <td>0.016164</td>\n",
       "      <td>0.951184</td>\n",
       "      <td>0.374065</td>\n",
       "      <td>1.156484</td>\n",
       "      <td>0.026584</td>\n",
       "      <td>0.767661</td>\n",
       "    </tr>\n",
       "    <tr>\n",
       "      <th>5</th>\n",
       "      <td>0.25</td>\n",
       "      <td>0.656396</td>\n",
       "      <td>0.038009</td>\n",
       "      <td>0.99</td>\n",
       "      <td>2.514645e-26</td>\n",
       "      <td>0.109726</td>\n",
       "      <td>0.019039</td>\n",
       "      <td>0.950035</td>\n",
       "      <td>0.438903</td>\n",
       "      <td>1.187032</td>\n",
       "      <td>0.032448</td>\n",
       "      <td>0.722504</td>\n",
       "    </tr>\n",
       "  </tbody>\n",
       "</table>\n",
       "</div>"
      ],
      "text/plain": [
       "    fpr       auc  confidence    cb             p       tpr       ppv  \\\n",
       "0  0.01  0.656396    0.038009  0.99  2.514645e-26  0.002494  0.010870   \n",
       "1  0.05  0.656396    0.038009  0.99  2.514645e-26  0.012469  0.010460   \n",
       "2  0.10  0.656396    0.038009  0.99  2.514645e-26  0.029925  0.012862   \n",
       "3  0.15  0.656396    0.038009  0.99  2.514645e-26  0.037406  0.010799   \n",
       "4  0.20  0.656396    0.038009  0.99  2.514645e-26  0.074813  0.016164   \n",
       "5  0.25  0.656396    0.038009  0.99  2.514645e-26  0.109726  0.019039   \n",
       "\n",
       "        npv    pos_LR    neg_LR        f1  accuracy  \n",
       "0  0.957283  0.249377  1.007582  0.004057  0.948075  \n",
       "1  0.955892  0.249377  1.039506  0.011377  0.908101  \n",
       "2  0.954359  0.299252  1.077861  0.017991  0.861464  \n",
       "3  0.952151  0.249377  1.132463  0.016760  0.813875  \n",
       "4  0.951184  0.374065  1.156484  0.026584  0.767661  \n",
       "5  0.950035  0.438903  1.187032  0.032448  0.722504  "
      ]
     },
     "execution_count": 11,
     "metadata": {},
     "output_type": "execute_result"
    }
   ],
   "source": [
    "pd.read_csv(\"../data/performance/performance_stats.csv\")"
   ]
  },
  {
   "cell_type": "code",
   "execution_count": 12,
   "metadata": {},
   "outputs": [
    {
     "data": {
      "image/png": "[encoded data removed]",
      "text/plain": [
       "<Figure size 504x504 with 1 Axes>"
      ]
     },
     "metadata": {
      "needs_background": "light"
     },
     "output_type": "display_data"
    },
    {
     "data": {
      "image/png": "[encoded data removed]",
      "text/plain": [
       "<Figure size 504x504 with 1 Axes>"
      ]
     },
     "metadata": {
      "needs_background": "light"
     },
     "output_type": "display_data"
    }
   ],
   "source": [
    "zcorstats.plot_curves(\n",
    "    pd.read_csv(\"../data/performance/performance_stats.csv\"),\n",
    "    pd.read_csv(\"../data/performance/ROC.csv\"),\n",
    "    pd.read_csv(\"../data/performance/PRC.csv\")\n",
    ")"
   ]
  },
  {
   "cell_type": "code",
   "execution_count": null,
   "metadata": {},
   "outputs": [],
   "source": []
  }
 ],
 "metadata": {
  "kernelspec": {
   "display_name": "Python 3",
   "language": "python",
   "name": "python3"
  },
  "language_info": {
   "codemirror_mode": {
    "name": "ipython",
    "version": 3
   },
   "file_extension": ".py",
   "mimetype": "text/x-python",
   "name": "python",
   "nbconvert_exporter": "python",
   "pygments_lexer": "ipython3",
   "version": "3.8.8"
  }
 },
 "nbformat": 4,
 "nbformat_minor": 4
}
