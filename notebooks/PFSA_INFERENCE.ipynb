{
 "cells": [
  {
   "cell_type": "code",
   "execution_count": 1,
   "metadata": {},
   "outputs": [],
   "source": [
    "import os\n",
    "import sys\n",
    "import warnings\n",
    "warnings.filterwarnings(\"ignore\")\n",
    "\n",
    "import matplotlib.pyplot as plt\n",
    "%matplotlib inline\n",
    "\n",
    "import pandas as pd\n",
    "import numpy as np\n",
    "\n",
    "sys.path.append('..')\n",
    "\n",
    "from zcor_adrd import dataprocessing\n",
    "from zcor_adrd import pfsageneration\n",
    "from zcor_adrd import pfsascoreestimation\n",
    "from zcor_adrd import zcorstats"
   ]
  },
  {
   "cell_type": "code",
   "execution_count": 2,
   "metadata": {},
   "outputs": [
    {
     "name": "stdout",
     "output_type": "stream",
     "text": [
      "/mnt/c/Users/onisc/Documents/ZBL/ZCOR-ADRD/notebooks\n"
     ]
    }
   ],
   "source": [
    "!pwd"
   ]
  },
  {
   "cell_type": "code",
   "execution_count": 3,
   "metadata": {},
   "outputs": [
    {
     "name": "stdout",
     "output_type": "stream",
     "text": [
      "LICENSE  README.md  bin  data  models  notebooks  zcor_adrd\n"
     ]
    }
   ],
   "source": [
    "!ls .."
   ]
  },
  {
   "cell_type": "code",
   "execution_count": 4,
   "metadata": {},
   "outputs": [],
   "source": [
    "dataprocessing.ternary_encoding('../data/RAW_SAMPLE.csv')"
   ]
  },
  {
   "cell_type": "code",
   "execution_count": 5,
   "metadata": {},
   "outputs": [
    {
     "name": "stdout",
     "output_type": "stream",
     "text": [
      "0    9103\n",
      "1     368\n",
      "Name: target, dtype: int64\n",
      "0    9083\n",
      "1     388\n",
      "Name: target, dtype: int64\n"
     ]
    }
   ],
   "source": [
    "PFSA_SET = pd.read_csv(\"../data/PFSA_SET.csv\")\n",
    "LLK_SET = pd.read_csv(\"../data/LLK_SET.csv\")\n",
    "\n",
    "print(PFSA_SET.target.value_counts())\n",
    "print(LLK_SET.target.value_counts())"
   ]
  },
  {
   "cell_type": "code",
   "execution_count": 6,
   "metadata": {},
   "outputs": [
    {
     "data": {
      "text/html": [
       "<div>\n",
       "<style scoped>\n",
       "    .dataframe tbody tr th:only-of-type {\n",
       "        vertical-align: middle;\n",
       "    }\n",
       "\n",
       "    .dataframe tbody tr th {\n",
       "        vertical-align: top;\n",
       "    }\n",
       "\n",
       "    .dataframe thead th {\n",
       "        text-align: right;\n",
       "    }\n",
       "</style>\n",
       "<table border=\"1\" class=\"dataframe\">\n",
       "  <thead>\n",
       "    <tr style=\"text-align: right;\">\n",
       "      <th></th>\n",
       "      <th>patient_id</th>\n",
       "      <th>gender</th>\n",
       "      <th>age_at_screening</th>\n",
       "      <th>sequence</th>\n",
       "      <th>sequence_weeks</th>\n",
       "      <th>sequence_codes</th>\n",
       "      <th>abs_sequence_weeks</th>\n",
       "      <th>prediction_point</th>\n",
       "      <th>first_week</th>\n",
       "      <th>last_week</th>\n",
       "      <th>...</th>\n",
       "      <th>DX_Rheumatism_codes</th>\n",
       "      <th>DX_Sleep_Disorders_codes</th>\n",
       "      <th>DX_Symptoms_Abs_Pelvis_codes</th>\n",
       "      <th>DX_Symptoms_Digestive_codes</th>\n",
       "      <th>DX_Symptoms_General_codes</th>\n",
       "      <th>DX_Symptoms_Respiratory_codes</th>\n",
       "      <th>DX_Symptoms_Skin_codes</th>\n",
       "      <th>DX_Symptoms_Urinary_codes</th>\n",
       "      <th>DX_Thyroid_codes</th>\n",
       "      <th>target</th>\n",
       "    </tr>\n",
       "  </thead>\n",
       "  <tbody>\n",
       "    <tr>\n",
       "      <th>2793</th>\n",
       "      <td>P12790</td>\n",
       "      <td>M</td>\n",
       "      <td>68.826923</td>\n",
       "      <td>0 0 0 0 2 2 0 0 0 0 0 0 0 0 0 0 0 2 0 0 0 0 0 ...</td>\n",
       "      <td>5 6 6 18 31 37 56 74 85 93 93 102 102 102 103 ...</td>\n",
       "      <td>556.9 729.5 719.43 403.10 556.9 401.1 401.1 40...</td>\n",
       "      <td>360 361 361 373 386 392 411 429 440 448 448 45...</td>\n",
       "      <td>459</td>\n",
       "      <td>360</td>\n",
       "      <td>458</td>\n",
       "      <td>...</td>\n",
       "      <td>729.5</td>\n",
       "      <td>None</td>\n",
       "      <td>None</td>\n",
       "      <td>None</td>\n",
       "      <td>None</td>\n",
       "      <td>None</td>\n",
       "      <td>None</td>\n",
       "      <td>None</td>\n",
       "      <td>None</td>\n",
       "      <td>0</td>\n",
       "    </tr>\n",
       "  </tbody>\n",
       "</table>\n",
       "<p>1 rows × 129 columns</p>\n",
       "</div>"
      ],
      "text/plain": [
       "     patient_id gender  age_at_screening  \\\n",
       "2793     P12790      M         68.826923   \n",
       "\n",
       "                                               sequence  \\\n",
       "2793  0 0 0 0 2 2 0 0 0 0 0 0 0 0 0 0 0 2 0 0 0 0 0 ...   \n",
       "\n",
       "                                         sequence_weeks  \\\n",
       "2793  5 6 6 18 31 37 56 74 85 93 93 102 102 102 103 ...   \n",
       "\n",
       "                                         sequence_codes  \\\n",
       "2793  556.9 729.5 719.43 403.10 556.9 401.1 401.1 40...   \n",
       "\n",
       "                                     abs_sequence_weeks  prediction_point  \\\n",
       "2793  360 361 361 373 386 392 411 429 440 448 448 45...               459   \n",
       "\n",
       "      first_week  last_week  ...  DX_Rheumatism_codes  \\\n",
       "2793         360        458  ...                729.5   \n",
       "\n",
       "     DX_Sleep_Disorders_codes DX_Symptoms_Abs_Pelvis_codes  \\\n",
       "2793                     None                         None   \n",
       "\n",
       "     DX_Symptoms_Digestive_codes DX_Symptoms_General_codes  \\\n",
       "2793                        None                      None   \n",
       "\n",
       "     DX_Symptoms_Respiratory_codes DX_Symptoms_Skin_codes  \\\n",
       "2793                          None                   None   \n",
       "\n",
       "     DX_Symptoms_Urinary_codes DX_Thyroid_codes target  \n",
       "2793                      None             None      0  \n",
       "\n",
       "[1 rows x 129 columns]"
      ]
     },
     "execution_count": 6,
     "metadata": {},
     "output_type": "execute_result"
    }
   ],
   "source": [
    "PFSA_SET.sample()"
   ]
  },
  {
   "cell_type": "code",
   "execution_count": 7,
   "metadata": {},
   "outputs": [
    {
     "data": {
      "text/html": [
       "<div>\n",
       "<style scoped>\n",
       "    .dataframe tbody tr th:only-of-type {\n",
       "        vertical-align: middle;\n",
       "    }\n",
       "\n",
       "    .dataframe tbody tr th {\n",
       "        vertical-align: top;\n",
       "    }\n",
       "\n",
       "    .dataframe thead th {\n",
       "        text-align: right;\n",
       "    }\n",
       "</style>\n",
       "<table border=\"1\" class=\"dataframe\">\n",
       "  <thead>\n",
       "    <tr style=\"text-align: right;\">\n",
       "      <th></th>\n",
       "      <th>patient_id</th>\n",
       "      <th>gender</th>\n",
       "      <th>age_at_screening</th>\n",
       "      <th>sequence</th>\n",
       "      <th>sequence_weeks</th>\n",
       "      <th>sequence_codes</th>\n",
       "      <th>abs_sequence_weeks</th>\n",
       "      <th>prediction_point</th>\n",
       "      <th>first_week</th>\n",
       "      <th>last_week</th>\n",
       "      <th>...</th>\n",
       "      <th>DX_Rheumatism_codes</th>\n",
       "      <th>DX_Sleep_Disorders_codes</th>\n",
       "      <th>DX_Symptoms_Abs_Pelvis_codes</th>\n",
       "      <th>DX_Symptoms_Digestive_codes</th>\n",
       "      <th>DX_Symptoms_General_codes</th>\n",
       "      <th>DX_Symptoms_Respiratory_codes</th>\n",
       "      <th>DX_Symptoms_Skin_codes</th>\n",
       "      <th>DX_Symptoms_Urinary_codes</th>\n",
       "      <th>DX_Thyroid_codes</th>\n",
       "      <th>target</th>\n",
       "    </tr>\n",
       "  </thead>\n",
       "  <tbody>\n",
       "    <tr>\n",
       "      <th>2432</th>\n",
       "      <td>P8825</td>\n",
       "      <td>M</td>\n",
       "      <td>89.846154</td>\n",
       "      <td>0 0 0 0 0 0 0 0 0 0 0 0 0 0 2 0 0 0 0 0 0 0 0 ...</td>\n",
       "      <td>15 15 15 47 47 52 52 66 66 66 66 77 77 78 78 7...</td>\n",
       "      <td>V54.81 V43.65 V43.64 786.05 780.79 585.3 786.0...</td>\n",
       "      <td>59 59 59 91 91 96 96 110 110 110 110 121 121 1...</td>\n",
       "      <td>148</td>\n",
       "      <td>59</td>\n",
       "      <td>129</td>\n",
       "      <td>...</td>\n",
       "      <td>729.81 729.81 729.81 729.81</td>\n",
       "      <td>None</td>\n",
       "      <td>None</td>\n",
       "      <td>None</td>\n",
       "      <td>780.79</td>\n",
       "      <td>786.05 786.05 786.2 786.2</td>\n",
       "      <td>None</td>\n",
       "      <td>None</td>\n",
       "      <td>None</td>\n",
       "      <td>0</td>\n",
       "    </tr>\n",
       "  </tbody>\n",
       "</table>\n",
       "<p>1 rows × 129 columns</p>\n",
       "</div>"
      ],
      "text/plain": [
       "     patient_id gender  age_at_screening  \\\n",
       "2432      P8825      M         89.846154   \n",
       "\n",
       "                                               sequence  \\\n",
       "2432  0 0 0 0 0 0 0 0 0 0 0 0 0 0 2 0 0 0 0 0 0 0 0 ...   \n",
       "\n",
       "                                         sequence_weeks  \\\n",
       "2432  15 15 15 47 47 52 52 66 66 66 66 77 77 78 78 7...   \n",
       "\n",
       "                                         sequence_codes  \\\n",
       "2432  V54.81 V43.65 V43.64 786.05 780.79 585.3 786.0...   \n",
       "\n",
       "                                     abs_sequence_weeks  prediction_point  \\\n",
       "2432  59 59 59 91 91 96 96 110 110 110 110 121 121 1...               148   \n",
       "\n",
       "      first_week  last_week  ...          DX_Rheumatism_codes  \\\n",
       "2432          59        129  ...  729.81 729.81 729.81 729.81   \n",
       "\n",
       "     DX_Sleep_Disorders_codes DX_Symptoms_Abs_Pelvis_codes  \\\n",
       "2432                     None                         None   \n",
       "\n",
       "     DX_Symptoms_Digestive_codes DX_Symptoms_General_codes  \\\n",
       "2432                        None                    780.79   \n",
       "\n",
       "     DX_Symptoms_Respiratory_codes DX_Symptoms_Skin_codes  \\\n",
       "2432     786.05 786.05 786.2 786.2                   None   \n",
       "\n",
       "     DX_Symptoms_Urinary_codes DX_Thyroid_codes target  \n",
       "2432                      None             None      0  \n",
       "\n",
       "[1 rows x 129 columns]"
      ]
     },
     "execution_count": 7,
     "metadata": {},
     "output_type": "execute_result"
    }
   ],
   "source": [
    "LLK_SET.sample()"
   ]
  },
  {
   "cell_type": "code",
   "execution_count": 8,
   "metadata": {},
   "outputs": [],
   "source": [
    "pfsageneration.generate_pfsa(PFSA_SET)"
   ]
  },
  {
   "cell_type": "code",
   "execution_count": 9,
   "metadata": {},
   "outputs": [],
   "source": [
    "pfsascoreestimation.generate_pfsa_features(\n",
    "    LLK_SET,\n",
    "    save_path = '../data/pfsa_features.csv')"
   ]
  },
  {
   "cell_type": "code",
   "execution_count": 10,
   "metadata": {},
   "outputs": [],
   "source": [
    "zcorstats.compute_performance(\n",
    "                '../data/pfsa_features.csv',\n",
    "                'MEAN_DX_sld',\n",
    "            )"
   ]
  },
  {
   "cell_type": "code",
   "execution_count": 11,
   "metadata": {},
   "outputs": [
    {
     "data": {
      "text/html": [
       "<div>\n",
       "<style scoped>\n",
       "    .dataframe tbody tr th:only-of-type {\n",
       "        vertical-align: middle;\n",
       "    }\n",
       "\n",
       "    .dataframe tbody tr th {\n",
       "        vertical-align: top;\n",
       "    }\n",
       "\n",
       "    .dataframe thead th {\n",
       "        text-align: right;\n",
       "    }\n",
       "</style>\n",
       "<table border=\"1\" class=\"dataframe\">\n",
       "  <thead>\n",
       "    <tr style=\"text-align: right;\">\n",
       "      <th></th>\n",
       "      <th>fpr</th>\n",
       "      <th>auc</th>\n",
       "      <th>confidence</th>\n",
       "      <th>cb</th>\n",
       "      <th>p</th>\n",
       "      <th>tpr</th>\n",
       "      <th>ppv</th>\n",
       "      <th>npv</th>\n",
       "      <th>pos_LR</th>\n",
       "      <th>neg_LR</th>\n",
       "      <th>f1</th>\n",
       "      <th>accuracy</th>\n",
       "    </tr>\n",
       "  </thead>\n",
       "  <tbody>\n",
       "    <tr>\n",
       "      <th>0</th>\n",
       "      <td>0.01</td>\n",
       "      <td>0.649808</td>\n",
       "      <td>0.038613</td>\n",
       "      <td>0.99</td>\n",
       "      <td>1.381324e-23</td>\n",
       "      <td>0.005155</td>\n",
       "      <td>0.021739</td>\n",
       "      <td>0.958787</td>\n",
       "      <td>0.515464</td>\n",
       "      <td>1.004894</td>\n",
       "      <td>0.008333</td>\n",
       "      <td>0.949672</td>\n",
       "    </tr>\n",
       "    <tr>\n",
       "      <th>1</th>\n",
       "      <td>0.05</td>\n",
       "      <td>0.649808</td>\n",
       "      <td>0.038613</td>\n",
       "      <td>0.99</td>\n",
       "      <td>1.381324e-23</td>\n",
       "      <td>0.007732</td>\n",
       "      <td>0.006369</td>\n",
       "      <td>0.957160</td>\n",
       "      <td>0.154639</td>\n",
       "      <td>1.044493</td>\n",
       "      <td>0.006985</td>\n",
       "      <td>0.909812</td>\n",
       "    </tr>\n",
       "    <tr>\n",
       "      <th>2</th>\n",
       "      <td>0.10</td>\n",
       "      <td>0.649808</td>\n",
       "      <td>0.038613</td>\n",
       "      <td>0.99</td>\n",
       "      <td>1.381324e-23</td>\n",
       "      <td>0.010309</td>\n",
       "      <td>0.004396</td>\n",
       "      <td>0.955077</td>\n",
       "      <td>0.103093</td>\n",
       "      <td>1.099656</td>\n",
       "      <td>0.006163</td>\n",
       "      <td>0.863608</td>\n",
       "    </tr>\n",
       "    <tr>\n",
       "      <th>3</th>\n",
       "      <td>0.15</td>\n",
       "      <td>0.649808</td>\n",
       "      <td>0.038613</td>\n",
       "      <td>0.99</td>\n",
       "      <td>1.381324e-23</td>\n",
       "      <td>0.041237</td>\n",
       "      <td>0.011577</td>\n",
       "      <td>0.953938</td>\n",
       "      <td>0.274914</td>\n",
       "      <td>1.127956</td>\n",
       "      <td>0.018079</td>\n",
       "      <td>0.816240</td>\n",
       "    </tr>\n",
       "    <tr>\n",
       "      <th>4</th>\n",
       "      <td>0.20</td>\n",
       "      <td>0.649808</td>\n",
       "      <td>0.038613</td>\n",
       "      <td>0.99</td>\n",
       "      <td>1.381324e-23</td>\n",
       "      <td>0.082474</td>\n",
       "      <td>0.017085</td>\n",
       "      <td>0.953065</td>\n",
       "      <td>0.412371</td>\n",
       "      <td>1.146907</td>\n",
       "      <td>0.028306</td>\n",
       "      <td>0.767710</td>\n",
       "    </tr>\n",
       "    <tr>\n",
       "      <th>5</th>\n",
       "      <td>0.25</td>\n",
       "      <td>0.649808</td>\n",
       "      <td>0.038613</td>\n",
       "      <td>0.99</td>\n",
       "      <td>1.381324e-23</td>\n",
       "      <td>0.105670</td>\n",
       "      <td>0.017220</td>\n",
       "      <td>0.950968</td>\n",
       "      <td>0.422680</td>\n",
       "      <td>1.192440</td>\n",
       "      <td>0.029614</td>\n",
       "      <td>0.715902</td>\n",
       "    </tr>\n",
       "  </tbody>\n",
       "</table>\n",
       "</div>"
      ],
      "text/plain": [
       "    fpr       auc  confidence    cb             p       tpr       ppv  \\\n",
       "0  0.01  0.649808    0.038613  0.99  1.381324e-23  0.005155  0.021739   \n",
       "1  0.05  0.649808    0.038613  0.99  1.381324e-23  0.007732  0.006369   \n",
       "2  0.10  0.649808    0.038613  0.99  1.381324e-23  0.010309  0.004396   \n",
       "3  0.15  0.649808    0.038613  0.99  1.381324e-23  0.041237  0.011577   \n",
       "4  0.20  0.649808    0.038613  0.99  1.381324e-23  0.082474  0.017085   \n",
       "5  0.25  0.649808    0.038613  0.99  1.381324e-23  0.105670  0.017220   \n",
       "\n",
       "        npv    pos_LR    neg_LR        f1  accuracy  \n",
       "0  0.958787  0.515464  1.004894  0.008333  0.949672  \n",
       "1  0.957160  0.154639  1.044493  0.006985  0.909812  \n",
       "2  0.955077  0.103093  1.099656  0.006163  0.863608  \n",
       "3  0.953938  0.274914  1.127956  0.018079  0.816240  \n",
       "4  0.953065  0.412371  1.146907  0.028306  0.767710  \n",
       "5  0.950968  0.422680  1.192440  0.029614  0.715902  "
      ]
     },
     "execution_count": 11,
     "metadata": {},
     "output_type": "execute_result"
    }
   ],
   "source": [
    "pd.read_csv(\"../data/performance/performance_stats.csv\")"
   ]
  },
  {
   "cell_type": "code",
   "execution_count": 12,
   "metadata": {},
   "outputs": [
    {
     "data": {
      "image/png": "[encoded data removed]",
      "text/plain": [
       "<Figure size 504x504 with 1 Axes>"
      ]
     },
     "metadata": {
      "needs_background": "light"
     },
     "output_type": "display_data"
    },
    {
     "data": {
      "image/png": "[encoded data removed]",
      "text/plain": [
       "<Figure size 504x504 with 1 Axes>"
      ]
     },
     "metadata": {
      "needs_background": "light"
     },
     "output_type": "display_data"
    }
   ],
   "source": [
    "zcorstats.plot_curves(\n",
    "    pd.read_csv(\"../data/performance/performance_stats.csv\"),\n",
    "    pd.read_csv(\"../data/performance/ROC.csv\"),\n",
    "    pd.read_csv(\"../data/performance/PRC.csv\")\n",
    ")"
   ]
  },
  {
   "cell_type": "code",
   "execution_count": null,
   "metadata": {},
   "outputs": [],
   "source": []
  }
 ],
 "metadata": {
  "kernelspec": {
   "display_name": "Python 3",
   "language": "python",
   "name": "python3"
  },
  "language_info": {
   "codemirror_mode": {
    "name": "ipython",
    "version": 3
   },
   "file_extension": ".py",
   "mimetype": "text/x-python",
   "name": "python",
   "nbconvert_exporter": "python",
   "pygments_lexer": "ipython3",
   "version": "3.8.8"
  }
 },
 "nbformat": 4,
 "nbformat_minor": 4
}
